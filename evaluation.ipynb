{
 "cells": [
  {
   "cell_type": "markdown",
   "id": "865ba269",
   "metadata": {},
   "source": [
    "# PID, MPC, Offline, Offline + Online 평가\n",
    "\n",
    "시뮬레이터를 통한 평가를 진행한다.\n",
    "\n",
    "고정된 에피소드 7개에 대해 3개의 seed를 적용하여 L2(t,tsp)을 평균낸다."
   ]
  },
  {
   "cell_type": "code",
   "execution_count": null,
   "id": "a774f757",
   "metadata": {},
   "outputs": [],
   "source": [
    "import tclab\n",
    "import numpy as np\n",
    "import time\n",
    "import csv\n",
    "import matplotlib.pyplot as plt\n",
    "\n",
    "import os\n",
    "root_path=\"/home/minchanggi/code/TCLab/data/eval_data\""
   ]
  },
  {
   "cell_type": "markdown",
   "id": "4fbab5bb",
   "metadata": {},
   "source": [
    "## PID"
   ]
  },
  {
   "cell_type": "code",
   "execution_count": null,
   "id": "999f457b",
   "metadata": {},
   "outputs": [],
   "source": [
    "# PID 상수\n",
    "Kc   = 9.24\n",
    "tauI = 126.6 # sec\n",
    "tauD = 8.90  # sec\n",
    "Kff  = -0.66\n",
    "st_temp = 29.0\n",
    "\n",
    "\n",
    "PID_path=os.path.join(root_path,\"PID\")\n",
    "csv_dir=os.path.join(PID_path,\"csv\")\n",
    "png_dir=os.path.join(PID_path,\"png\")\n",
    "os.makedirs(csv_dir, exist_ok=True)\n",
    "os.makedirs(png_dir, exist_ok=True)"
   ]
  },
  {
   "cell_type": "code",
   "execution_count": null,
   "id": "ae688554",
   "metadata": {},
   "outputs": [],
   "source": []
  },
  {
   "cell_type": "markdown",
   "id": "32f2bf40",
   "metadata": {},
   "source": []
  },
  {
   "cell_type": "code",
   "execution_count": null,
   "id": "0e66d416",
   "metadata": {},
   "outputs": [],
   "source": []
  },
  {
   "cell_type": "markdown",
   "id": "a741d3b8",
   "metadata": {},
   "source": []
  },
  {
   "cell_type": "code",
   "execution_count": null,
   "id": "fc2cf130",
   "metadata": {},
   "outputs": [],
   "source": []
  },
  {
   "cell_type": "markdown",
   "id": "fb5acb52",
   "metadata": {},
   "source": []
  }
 ],
 "metadata": {
  "kernelspec": {
   "display_name": "TCLab",
   "language": "python",
   "name": "python3"
  },
  "language_info": {
   "codemirror_mode": {
    "name": "ipython",
    "version": 3
   },
   "file_extension": ".py",
   "mimetype": "text/x-python",
   "name": "python",
   "nbconvert_exporter": "python",
   "pygments_lexer": "ipython3",
   "version": "3.10.16"
  }
 },
 "nbformat": 4,
 "nbformat_minor": 5
}
