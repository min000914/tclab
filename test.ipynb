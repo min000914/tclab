{
 "cells": [
  {
   "cell_type": "markdown",
   "id": "07b499e3",
   "metadata": {},
   "source": [
    "# 시뮬레이션 테스트"
   ]
  },
  {
   "cell_type": "code",
   "execution_count": null,
   "id": "b5c5b90e",
   "metadata": {},
   "outputs": [],
   "source": [
    "from tclab import setup\n",
    "import time\n",
    "import matplotlib.pyplot as plt\n",
    "\n",
    "lab = setup(connected=False)\n",
    "\n",
    "env= lab()\n",
    "\n",
    "setpoint = 50\n",
    "Kp, Ki, Kd = 5, 0.1, 0.0\n",
    "integral = 0\n",
    "last_error = 0\n",
    "\n",
    "temps, powers, times = [], [], []\n",
    "\n",
    "start = time.time()\n",
    "for i in range(60):\n",
    "    t = time.time() - start\n",
    "    T = env.T1\n",
    "    print(type(T)) \n",
    "    error = setpoint - T\n",
    "    integral += error\n",
    "    derivative = error - last_error\n",
    "\n",
    "    u = Kp*error + Ki*integral + Kd*derivative\n",
    "    u = max(0, min(100, u))\n",
    "    env.Q1(u)\n",
    "\n",
    "    last_error = error\n",
    "    times.append(t)\n",
    "    temps.append(T)\n",
    "    powers.append(u)\n",
    "    \n",
    "    print(f\"{i}s: T={T:.2f}, u={u:.2f}\")\n",
    "    time.sleep(1)\n",
    "\n",
    "env.Q1(0)\n",
    "env.close()\n",
    "\n",
    "plt.plot(times, temps, label='Temp')\n",
    "plt.plot(times, powers, label='Power')\n",
    "plt.legend()\n",
    "plt.show()\n"
   ]
  },
  {
   "cell_type": "markdown",
   "id": "dd739096",
   "metadata": {},
   "source": [
    "# 키트 테스트"
   ]
  },
  {
   "cell_type": "code",
   "execution_count": null,
   "id": "2e59450e",
   "metadata": {},
   "outputs": [],
   "source": [
    "import tclab\n",
    "import numpy as np\n",
    "import time\n",
    "import csv\n",
    "import matplotlib.pyplot as plt\n",
    "\n",
    "\n",
    "# 초기화\n",
    "a = tclab.TCLab()\n",
    "\n",
    "     \n",
    "setpoint = 50\n",
    "Kp, Ki, Kd = 5, 0.1, 0.0\n",
    "integral = 0\n",
    "last_error = 0\n",
    "\n",
    "temps, powers, times = [], [], []\n",
    "\n",
    "start = time.time()\n",
    "for i in range(60):\n",
    "    t = time.time() - start\n",
    "    T = a.T1\n",
    "    print(type(T)) \n",
    "    error = setpoint - T\n",
    "    integral += error\n",
    "    derivative = error - last_error\n",
    "\n",
    "    u = Kp*error + Ki*integral + Kd*derivative\n",
    "    u = max(0, min(100, u))\n",
    "    a.Q1(u)\n",
    "\n",
    "    last_error = error\n",
    "    times.append(t)\n",
    "    temps.append(T)\n",
    "    powers.append(u)\n",
    "    \n",
    "    print(f\"{i}s: T={T:.2f}, u={u:.2f}\")\n",
    "    time.sleep(1)\n",
    "\n",
    "a.Q1(0)\n",
    "a.close()\n",
    "\n",
    "plt.plot(times, temps, label='Temp')\n",
    "plt.plot(times, powers, label='Power')\n",
    "plt.legend()\n",
    "plt.show()\n"
   ]
  }
 ],
 "metadata": {
  "kernelspec": {
   "display_name": "TCLab",
   "language": "python",
   "name": "python3"
  },
  "language_info": {
   "codemirror_mode": {
    "name": "ipython",
    "version": 3
   },
   "file_extension": ".py",
   "mimetype": "text/x-python",
   "name": "python",
   "nbconvert_exporter": "python",
   "pygments_lexer": "ipython3",
   "version": "3.10.16"
  }
 },
 "nbformat": 4,
 "nbformat_minor": 5
}
