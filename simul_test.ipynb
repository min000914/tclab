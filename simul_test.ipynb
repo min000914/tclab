{
 "cells": [
  {
   "cell_type": "code",
   "execution_count": 1,
   "id": "b5c5b90e",
   "metadata": {},
   "outputs": [
    {
     "name": "stdout",
     "output_type": "stream",
     "text": [
      "TCLab version 1.0.0\n",
      "Simulated TCLab\n",
      "<class 'float'>\n",
      "0s: T=20.95, u=100.00\n",
      "<class 'float'>\n",
      "1s: T=20.95, u=100.00\n",
      "<class 'float'>\n",
      "2s: T=20.95, u=100.00\n",
      "<class 'float'>\n",
      "3s: T=20.95, u=100.00\n"
     ]
    },
    {
     "ename": "KeyboardInterrupt",
     "evalue": "",
     "output_type": "error",
     "traceback": [
      "\u001b[0;31m---------------------------------------------------------------------------\u001b[0m",
      "\u001b[0;31mKeyboardInterrupt\u001b[0m                         Traceback (most recent call last)",
      "Cell \u001b[0;32mIn[1], line 35\u001b[0m\n\u001b[1;32m     32\u001b[0m     powers\u001b[38;5;241m.\u001b[39mappend(u)\n\u001b[1;32m     34\u001b[0m     \u001b[38;5;28mprint\u001b[39m(\u001b[38;5;124mf\u001b[39m\u001b[38;5;124m\"\u001b[39m\u001b[38;5;132;01m{\u001b[39;00mi\u001b[38;5;132;01m}\u001b[39;00m\u001b[38;5;124ms: T=\u001b[39m\u001b[38;5;132;01m{\u001b[39;00mT\u001b[38;5;132;01m:\u001b[39;00m\u001b[38;5;124m.2f\u001b[39m\u001b[38;5;132;01m}\u001b[39;00m\u001b[38;5;124m, u=\u001b[39m\u001b[38;5;132;01m{\u001b[39;00mu\u001b[38;5;132;01m:\u001b[39;00m\u001b[38;5;124m.2f\u001b[39m\u001b[38;5;132;01m}\u001b[39;00m\u001b[38;5;124m\"\u001b[39m)\n\u001b[0;32m---> 35\u001b[0m     \u001b[43mtime\u001b[49m\u001b[38;5;241;43m.\u001b[39;49m\u001b[43msleep\u001b[49m\u001b[43m(\u001b[49m\u001b[38;5;241;43m1\u001b[39;49m\u001b[43m)\u001b[49m\n\u001b[1;32m     37\u001b[0m env\u001b[38;5;241m.\u001b[39mQ1(\u001b[38;5;241m0\u001b[39m)\n\u001b[1;32m     38\u001b[0m env\u001b[38;5;241m.\u001b[39mclose()\n",
      "\u001b[0;31mKeyboardInterrupt\u001b[0m: "
     ]
    }
   ],
   "source": [
    "from tclab import setup\n",
    "import time\n",
    "import matplotlib.pyplot as plt\n",
    "\n",
    "lab = setup(connected=False)\n",
    "\n",
    "env= lab()\n",
    "\n",
    "setpoint = 50\n",
    "Kp, Ki, Kd = 5, 0.1, 0.0\n",
    "integral = 0\n",
    "last_error = 0\n",
    "\n",
    "temps, powers, times = [], [], []\n",
    "\n",
    "start = time.time()\n",
    "for i in range(60):\n",
    "    t = time.time() - start\n",
    "    T = env.T1\n",
    "    print(type(T)) \n",
    "    error = setpoint - T\n",
    "    integral += error\n",
    "    derivative = error - last_error\n",
    "\n",
    "    u = Kp*error + Ki*integral + Kd*derivative\n",
    "    u = max(0, min(100, u))\n",
    "    env.Q1(u)\n",
    "\n",
    "    last_error = error\n",
    "    times.append(t)\n",
    "    temps.append(T)\n",
    "    powers.append(u)\n",
    "    \n",
    "    print(f\"{i}s: T={T:.2f}, u={u:.2f}\")\n",
    "    time.sleep(1)\n",
    "\n",
    "env.Q1(0)\n",
    "env.close()\n",
    "\n",
    "plt.plot(times, temps, label='Temp')\n",
    "plt.plot(times, powers, label='Power')\n",
    "plt.legend()\n",
    "plt.show()\n"
   ]
  }
 ],
 "metadata": {
  "kernelspec": {
   "display_name": "TCLab",
   "language": "python",
   "name": "python3"
  },
  "language_info": {
   "codemirror_mode": {
    "name": "ipython",
    "version": 3
   },
   "file_extension": ".py",
   "mimetype": "text/x-python",
   "name": "python",
   "nbconvert_exporter": "python",
   "pygments_lexer": "ipython3",
   "version": "3.10.16"
  }
 },
 "nbformat": 4,
 "nbformat_minor": 5
}
